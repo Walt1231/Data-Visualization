{
  "nbformat": 4,
  "nbformat_minor": 0,
  "metadata": {
    "colab": {
      "name": "Copy of Data Visualization Exercise.ipynb",
      "provenance": [],
      "authorship_tag": "ABX9TyOTtwwpQseYMNmUyO0Kl9Zp",
      "include_colab_link": true
    },
    "kernelspec": {
      "name": "python3",
      "display_name": "Python 3"
    },
    "language_info": {
      "name": "python"
    }
  },
  "cells": [
    {
      "cell_type": "markdown",
      "metadata": {
        "id": "view-in-github",
        "colab_type": "text"
      },
      "source": [
        "<a href=\"https://colab.research.google.com/github/Walt1231/Data-Visualization/blob/main/Copy_of_Data_Visualization_Exercise.ipynb\" target=\"_parent\"><img src=\"https://colab.research.google.com/assets/colab-badge.svg\" alt=\"Open In Colab\"/></a>"
      ]
    },
    {
      "cell_type": "code",
      "metadata": {
        "id": "986Omg4xRM7W"
      },
      "source": [
        "import pandas as pd\n",
        "import numpy as np\n",
        "import seaborn as sns\n",
        "import matplotlib.pyplot as plt\n"
      ],
      "execution_count": 1,
      "outputs": []
    },
    {
      "cell_type": "code",
      "metadata": {
        "colab": {
          "base_uri": "https://localhost:8080/",
          "height": 419
        },
        "id": "GWZvzRN3r-iu",
        "outputId": "2daeef9b-965b-4337-8570-540960a2c17a"
      },
      "source": [
        "filename = '/content/Household Income Distribution by State.xlsx'\n",
        "df = pd.read_excel(filename)\n",
        "df.head(100)"
      ],
      "execution_count": 2,
      "outputs": [
        {
          "output_type": "execute_result",
          "data": {
            "text/html": [
              "<div>\n",
              "<style scoped>\n",
              "    .dataframe tbody tr th:only-of-type {\n",
              "        vertical-align: middle;\n",
              "    }\n",
              "\n",
              "    .dataframe tbody tr th {\n",
              "        vertical-align: top;\n",
              "    }\n",
              "\n",
              "    .dataframe thead th {\n",
              "        text-align: right;\n",
              "    }\n",
              "</style>\n",
              "<table border=\"1\" class=\"dataframe\">\n",
              "  <thead>\n",
              "    <tr style=\"text-align: right;\">\n",
              "      <th></th>\n",
              "      <th>Year</th>\n",
              "      <th>State</th>\n",
              "      <th>Income Level</th>\n",
              "      <th>Percent of Total</th>\n",
              "      <th>Number of Households</th>\n",
              "    </tr>\n",
              "  </thead>\n",
              "  <tbody>\n",
              "    <tr>\n",
              "      <th>0</th>\n",
              "      <td>2009</td>\n",
              "      <td>Alabama</td>\n",
              "      <td>$10,000 to $14,999</td>\n",
              "      <td>0.0742</td>\n",
              "      <td>134988</td>\n",
              "    </tr>\n",
              "    <tr>\n",
              "      <th>1</th>\n",
              "      <td>2009</td>\n",
              "      <td>Alabama</td>\n",
              "      <td>$15,000 to $19,999</td>\n",
              "      <td>0.0687</td>\n",
              "      <td>125046</td>\n",
              "    </tr>\n",
              "    <tr>\n",
              "      <th>2</th>\n",
              "      <td>2009</td>\n",
              "      <td>Alabama</td>\n",
              "      <td>$20,000 to $24,999</td>\n",
              "      <td>0.0661</td>\n",
              "      <td>120178</td>\n",
              "    </tr>\n",
              "    <tr>\n",
              "      <th>3</th>\n",
              "      <td>2009</td>\n",
              "      <td>Alabama</td>\n",
              "      <td>$25,000 to $29,999</td>\n",
              "      <td>0.0607</td>\n",
              "      <td>110437</td>\n",
              "    </tr>\n",
              "    <tr>\n",
              "      <th>4</th>\n",
              "      <td>2009</td>\n",
              "      <td>Alabama</td>\n",
              "      <td>$30,000 to $34,999</td>\n",
              "      <td>0.0578</td>\n",
              "      <td>105216</td>\n",
              "    </tr>\n",
              "    <tr>\n",
              "      <th>...</th>\n",
              "      <td>...</td>\n",
              "      <td>...</td>\n",
              "      <td>...</td>\n",
              "      <td>...</td>\n",
              "      <td>...</td>\n",
              "    </tr>\n",
              "    <tr>\n",
              "      <th>95</th>\n",
              "      <td>2009</td>\n",
              "      <td>Colorado</td>\n",
              "      <td>Less than $10,000</td>\n",
              "      <td>0.0646</td>\n",
              "      <td>120777</td>\n",
              "    </tr>\n",
              "    <tr>\n",
              "      <th>96</th>\n",
              "      <td>2009</td>\n",
              "      <td>Connecticut</td>\n",
              "      <td>$10,000 to $14,999</td>\n",
              "      <td>0.0414</td>\n",
              "      <td>54931</td>\n",
              "    </tr>\n",
              "    <tr>\n",
              "      <th>97</th>\n",
              "      <td>2009</td>\n",
              "      <td>Connecticut</td>\n",
              "      <td>$15,000 to $19,999</td>\n",
              "      <td>0.0402</td>\n",
              "      <td>53304</td>\n",
              "    </tr>\n",
              "    <tr>\n",
              "      <th>98</th>\n",
              "      <td>2009</td>\n",
              "      <td>Connecticut</td>\n",
              "      <td>$20,000 to $24,999</td>\n",
              "      <td>0.0397</td>\n",
              "      <td>52666</td>\n",
              "    </tr>\n",
              "    <tr>\n",
              "      <th>99</th>\n",
              "      <td>2009</td>\n",
              "      <td>Connecticut</td>\n",
              "      <td>$25,000 to $29,999</td>\n",
              "      <td>0.0398</td>\n",
              "      <td>52832</td>\n",
              "    </tr>\n",
              "  </tbody>\n",
              "</table>\n",
              "<p>100 rows × 5 columns</p>\n",
              "</div>"
            ],
            "text/plain": [
              "    Year        State  ... Percent of Total  Number of Households\n",
              "0   2009      Alabama  ...           0.0742                134988\n",
              "1   2009      Alabama  ...           0.0687                125046\n",
              "2   2009      Alabama  ...           0.0661                120178\n",
              "3   2009      Alabama  ...           0.0607                110437\n",
              "4   2009      Alabama  ...           0.0578                105216\n",
              "..   ...          ...  ...              ...                   ...\n",
              "95  2009     Colorado  ...           0.0646                120777\n",
              "96  2009  Connecticut  ...           0.0414                 54931\n",
              "97  2009  Connecticut  ...           0.0402                 53304\n",
              "98  2009  Connecticut  ...           0.0397                 52666\n",
              "99  2009  Connecticut  ...           0.0398                 52832\n",
              "\n",
              "[100 rows x 5 columns]"
            ]
          },
          "metadata": {},
          "execution_count": 2
        }
      ]
    },
    {
      "cell_type": "code",
      "metadata": {
        "colab": {
          "base_uri": "https://localhost:8080/",
          "height": 204
        },
        "id": "t8eC8eyDxYzO",
        "outputId": "8b8ec5a9-875e-4259-b9a3-545da84caed1"
      },
      "source": [
        "df.tail()"
      ],
      "execution_count": 3,
      "outputs": [
        {
          "output_type": "execute_result",
          "data": {
            "text/html": [
              "<div>\n",
              "<style scoped>\n",
              "    .dataframe tbody tr th:only-of-type {\n",
              "        vertical-align: middle;\n",
              "    }\n",
              "\n",
              "    .dataframe tbody tr th {\n",
              "        vertical-align: top;\n",
              "    }\n",
              "\n",
              "    .dataframe thead th {\n",
              "        text-align: right;\n",
              "    }\n",
              "</style>\n",
              "<table border=\"1\" class=\"dataframe\">\n",
              "  <thead>\n",
              "    <tr style=\"text-align: right;\">\n",
              "      <th></th>\n",
              "      <th>Year</th>\n",
              "      <th>State</th>\n",
              "      <th>Income Level</th>\n",
              "      <th>Percent of Total</th>\n",
              "      <th>Number of Households</th>\n",
              "    </tr>\n",
              "  </thead>\n",
              "  <tbody>\n",
              "    <tr>\n",
              "      <th>6651</th>\n",
              "      <td>2016</td>\n",
              "      <td>Wyoming</td>\n",
              "      <td>$100,000 to $124,999</td>\n",
              "      <td>0.1022</td>\n",
              "      <td>23197</td>\n",
              "    </tr>\n",
              "    <tr>\n",
              "      <th>6652</th>\n",
              "      <td>2016</td>\n",
              "      <td>Wyoming</td>\n",
              "      <td>$125,000 to $149,999</td>\n",
              "      <td>0.0584</td>\n",
              "      <td>13254</td>\n",
              "    </tr>\n",
              "    <tr>\n",
              "      <th>6653</th>\n",
              "      <td>2016</td>\n",
              "      <td>Wyoming</td>\n",
              "      <td>$150,000 to $199,999</td>\n",
              "      <td>0.0499</td>\n",
              "      <td>11330</td>\n",
              "    </tr>\n",
              "    <tr>\n",
              "      <th>6654</th>\n",
              "      <td>2016</td>\n",
              "      <td>Wyoming</td>\n",
              "      <td>$200,000 or more</td>\n",
              "      <td>0.0345</td>\n",
              "      <td>7831</td>\n",
              "    </tr>\n",
              "    <tr>\n",
              "      <th>6655</th>\n",
              "      <td>2016</td>\n",
              "      <td>Wyoming</td>\n",
              "      <td>Less than $10,000</td>\n",
              "      <td>0.0494</td>\n",
              "      <td>11209</td>\n",
              "    </tr>\n",
              "  </tbody>\n",
              "</table>\n",
              "</div>"
            ],
            "text/plain": [
              "      Year    State  ... Percent of Total  Number of Households\n",
              "6651  2016  Wyoming  ...           0.1022                 23197\n",
              "6652  2016  Wyoming  ...           0.0584                 13254\n",
              "6653  2016  Wyoming  ...           0.0499                 11330\n",
              "6654  2016  Wyoming  ...           0.0345                  7831\n",
              "6655  2016  Wyoming  ...           0.0494                 11209\n",
              "\n",
              "[5 rows x 5 columns]"
            ]
          },
          "metadata": {},
          "execution_count": 3
        }
      ]
    },
    {
      "cell_type": "code",
      "metadata": {
        "colab": {
          "base_uri": "https://localhost:8080/"
        },
        "id": "i499QqF-r-Wi",
        "outputId": "2da717b4-4f0a-4430-ee84-9fac4f9be681"
      },
      "source": [
        "df.shape"
      ],
      "execution_count": 4,
      "outputs": [
        {
          "output_type": "execute_result",
          "data": {
            "text/plain": [
              "(6656, 5)"
            ]
          },
          "metadata": {},
          "execution_count": 4
        }
      ]
    },
    {
      "cell_type": "code",
      "metadata": {
        "colab": {
          "base_uri": "https://localhost:8080/"
        },
        "id": "dBiDIweTr3_8",
        "outputId": "47fd59c3-1cc1-4d31-e7f1-0a044f02c794"
      },
      "source": [
        "df.info()"
      ],
      "execution_count": 5,
      "outputs": [
        {
          "output_type": "stream",
          "name": "stdout",
          "text": [
            "<class 'pandas.core.frame.DataFrame'>\n",
            "RangeIndex: 6656 entries, 0 to 6655\n",
            "Data columns (total 5 columns):\n",
            " #   Column                Non-Null Count  Dtype  \n",
            "---  ------                --------------  -----  \n",
            " 0   Year                  6656 non-null   int64  \n",
            " 1   State                 6656 non-null   object \n",
            " 2   Income Level          6656 non-null   object \n",
            " 3   Percent of Total      6656 non-null   float64\n",
            " 4   Number of Households  6656 non-null   int64  \n",
            "dtypes: float64(1), int64(2), object(2)\n",
            "memory usage: 260.1+ KB\n"
          ]
        }
      ]
    },
    {
      "cell_type": "code",
      "metadata": {
        "colab": {
          "base_uri": "https://localhost:8080/"
        },
        "id": "hi3LzcEiss60",
        "outputId": "9c3f8890-b3fa-4777-8069-afe628246a6b"
      },
      "source": [
        "df.isnull().sum()"
      ],
      "execution_count": 6,
      "outputs": [
        {
          "output_type": "execute_result",
          "data": {
            "text/plain": [
              "Year                    0\n",
              "State                   0\n",
              "Income Level            0\n",
              "Percent of Total        0\n",
              "Number of Households    0\n",
              "dtype: int64"
            ]
          },
          "metadata": {},
          "execution_count": 6
        }
      ]
    },
    {
      "cell_type": "code",
      "metadata": {
        "colab": {
          "base_uri": "https://localhost:8080/"
        },
        "id": "rtTtZy208nr7",
        "outputId": "a9611708-78ec-4528-d821-96b090739777"
      },
      "source": [
        "df['Year']"
      ],
      "execution_count": 7,
      "outputs": [
        {
          "output_type": "execute_result",
          "data": {
            "text/plain": [
              "0       2009\n",
              "1       2009\n",
              "2       2009\n",
              "3       2009\n",
              "4       2009\n",
              "        ... \n",
              "6651    2016\n",
              "6652    2016\n",
              "6653    2016\n",
              "6654    2016\n",
              "6655    2016\n",
              "Name: Year, Length: 6656, dtype: int64"
            ]
          },
          "metadata": {},
          "execution_count": 7
        }
      ]
    },
    {
      "cell_type": "code",
      "metadata": {
        "colab": {
          "base_uri": "https://localhost:8080/"
        },
        "id": "XbjX8PUx8tpO",
        "outputId": "5ccb03ba-4057-4a89-ee27-499531fe5dce"
      },
      "source": [
        "df['Percent of Total']"
      ],
      "execution_count": 8,
      "outputs": [
        {
          "output_type": "execute_result",
          "data": {
            "text/plain": [
              "0       0.0742\n",
              "1       0.0687\n",
              "2       0.0661\n",
              "3       0.0607\n",
              "4       0.0578\n",
              "         ...  \n",
              "6651    0.1022\n",
              "6652    0.0584\n",
              "6653    0.0499\n",
              "6654    0.0345\n",
              "6655    0.0494\n",
              "Name: Percent of Total, Length: 6656, dtype: float64"
            ]
          },
          "metadata": {},
          "execution_count": 8
        }
      ]
    },
    {
      "cell_type": "code",
      "metadata": {
        "colab": {
          "base_uri": "https://localhost:8080/",
          "height": 294
        },
        "id": "YzRgv8Vlsy9o",
        "outputId": "33af3a99-4b2f-44de-c72b-a8ebc7223247"
      },
      "source": [
        "df.hist();"
      ],
      "execution_count": 9,
      "outputs": [
        {
          "output_type": "display_data",
          "data": {
            "image/png": "[encoded data removed]",
            "text/plain": [
              "<Figure size 432x288 with 4 Axes>"
            ]
          },
          "metadata": {
            "needs_background": "light"
          }
        }
      ]
    },
    {
      "cell_type": "code",
      "metadata": {
        "colab": {
          "base_uri": "https://localhost:8080/",
          "height": 1000
        },
        "id": "yBR0QQuiuchJ",
        "outputId": "ebc4590d-c3f7-4eda-e7d0-f0103a706ac2"
      },
      "source": [
        "df.groupby(by = 'State')[['Number of Households']].mean()\n"
      ],
      "execution_count": 10,
      "outputs": [
        {
          "output_type": "execute_result",
          "data": {
            "text/html": [
              "<div>\n",
              "<style scoped>\n",
              "    .dataframe tbody tr th:only-of-type {\n",
              "        vertical-align: middle;\n",
              "    }\n",
              "\n",
              "    .dataframe tbody tr th {\n",
              "        vertical-align: top;\n",
              "    }\n",
              "\n",
              "    .dataframe thead th {\n",
              "        text-align: right;\n",
              "    }\n",
              "</style>\n",
              "<table border=\"1\" class=\"dataframe\">\n",
              "  <thead>\n",
              "    <tr style=\"text-align: right;\">\n",
              "      <th></th>\n",
              "      <th>Number of Households</th>\n",
              "    </tr>\n",
              "    <tr>\n",
              "      <th>State</th>\n",
              "      <th></th>\n",
              "    </tr>\n",
              "  </thead>\n",
              "  <tbody>\n",
              "    <tr>\n",
              "      <th>Alabama</th>\n",
              "      <td>114763.585938</td>\n",
              "    </tr>\n",
              "    <tr>\n",
              "      <th>Alaska</th>\n",
              "      <td>15575.929688</td>\n",
              "    </tr>\n",
              "    <tr>\n",
              "      <th>Arizona</th>\n",
              "      <td>147614.664062</td>\n",
              "    </tr>\n",
              "    <tr>\n",
              "      <th>Arkansas</th>\n",
              "      <td>70458.500000</td>\n",
              "    </tr>\n",
              "    <tr>\n",
              "      <th>California</th>\n",
              "      <td>782534.953125</td>\n",
              "    </tr>\n",
              "    <tr>\n",
              "      <th>Colorado</th>\n",
              "      <td>123001.328125</td>\n",
              "    </tr>\n",
              "    <tr>\n",
              "      <th>Connecticut</th>\n",
              "      <td>84580.859375</td>\n",
              "    </tr>\n",
              "    <tr>\n",
              "      <th>Delaware</th>\n",
              "      <td>21019.828125</td>\n",
              "    </tr>\n",
              "    <tr>\n",
              "      <th>District of Columbia</th>\n",
              "      <td>16487.250000</td>\n",
              "    </tr>\n",
              "    <tr>\n",
              "      <th>Florida</th>\n",
              "      <td>449896.375000</td>\n",
              "    </tr>\n",
              "    <tr>\n",
              "      <th>Georgia</th>\n",
              "      <td>219766.312500</td>\n",
              "    </tr>\n",
              "    <tr>\n",
              "      <th>Hawaii</th>\n",
              "      <td>27936.570312</td>\n",
              "    </tr>\n",
              "    <tr>\n",
              "      <th>Idaho</th>\n",
              "      <td>36145.601562</td>\n",
              "    </tr>\n",
              "    <tr>\n",
              "      <th>Illinois</th>\n",
              "      <td>298488.156250</td>\n",
              "    </tr>\n",
              "    <tr>\n",
              "      <th>Indiana</th>\n",
              "      <td>155272.382812</td>\n",
              "    </tr>\n",
              "    <tr>\n",
              "      <th>Iowa</th>\n",
              "      <td>76659.335938</td>\n",
              "    </tr>\n",
              "    <tr>\n",
              "      <th>Kansas</th>\n",
              "      <td>69229.226562</td>\n",
              "    </tr>\n",
              "    <tr>\n",
              "      <th>Kentucky</th>\n",
              "      <td>105845.265625</td>\n",
              "    </tr>\n",
              "    <tr>\n",
              "      <th>Louisiana</th>\n",
              "      <td>105803.906250</td>\n",
              "    </tr>\n",
              "    <tr>\n",
              "      <th>Maine</th>\n",
              "      <td>34451.976562</td>\n",
              "    </tr>\n",
              "    <tr>\n",
              "      <th>Maryland</th>\n",
              "      <td>133803.687500</td>\n",
              "    </tr>\n",
              "    <tr>\n",
              "      <th>Massachusetts</th>\n",
              "      <td>157840.242188</td>\n",
              "    </tr>\n",
              "    <tr>\n",
              "      <th>Michigan</th>\n",
              "      <td>239851.343750</td>\n",
              "    </tr>\n",
              "    <tr>\n",
              "      <th>Minnesota</th>\n",
              "      <td>131457.523438</td>\n",
              "    </tr>\n",
              "    <tr>\n",
              "      <th>Mississippi</th>\n",
              "      <td>68092.476562</td>\n",
              "    </tr>\n",
              "    <tr>\n",
              "      <th>Missouri</th>\n",
              "      <td>147210.781250</td>\n",
              "    </tr>\n",
              "    <tr>\n",
              "      <th>Montana</th>\n",
              "      <td>25145.679688</td>\n",
              "    </tr>\n",
              "    <tr>\n",
              "      <th>Nebraska</th>\n",
              "      <td>45206.757812</td>\n",
              "    </tr>\n",
              "    <tr>\n",
              "      <th>Nevada</th>\n",
              "      <td>62154.843750</td>\n",
              "    </tr>\n",
              "    <tr>\n",
              "      <th>New Hampshire</th>\n",
              "      <td>32243.500000</td>\n",
              "    </tr>\n",
              "    <tr>\n",
              "      <th>New Jersey</th>\n",
              "      <td>198875.734375</td>\n",
              "    </tr>\n",
              "    <tr>\n",
              "      <th>New Mexico</th>\n",
              "      <td>47432.531250</td>\n",
              "    </tr>\n",
              "    <tr>\n",
              "      <th>New York</th>\n",
              "      <td>451625.570312</td>\n",
              "    </tr>\n",
              "    <tr>\n",
              "      <th>North Carolina</th>\n",
              "      <td>231049.828125</td>\n",
              "    </tr>\n",
              "    <tr>\n",
              "      <th>North Dakota</th>\n",
              "      <td>17935.156250</td>\n",
              "    </tr>\n",
              "    <tr>\n",
              "      <th>Ohio</th>\n",
              "      <td>285174.632812</td>\n",
              "    </tr>\n",
              "    <tr>\n",
              "      <th>Oklahoma</th>\n",
              "      <td>89919.968750</td>\n",
              "    </tr>\n",
              "    <tr>\n",
              "      <th>Oregon</th>\n",
              "      <td>94565.265625</td>\n",
              "    </tr>\n",
              "    <tr>\n",
              "      <th>Pennsylvania</th>\n",
              "      <td>309241.078125</td>\n",
              "    </tr>\n",
              "    <tr>\n",
              "      <th>Puerto Rico</th>\n",
              "      <td>76893.429688</td>\n",
              "    </tr>\n",
              "    <tr>\n",
              "      <th>Rhode Island</th>\n",
              "      <td>25594.648438</td>\n",
              "    </tr>\n",
              "    <tr>\n",
              "      <th>South Carolina</th>\n",
              "      <td>110878.671875</td>\n",
              "    </tr>\n",
              "    <tr>\n",
              "      <th>South Dakota</th>\n",
              "      <td>20185.203125</td>\n",
              "    </tr>\n",
              "    <tr>\n",
              "      <th>Tennessee</th>\n",
              "      <td>154470.187500</td>\n",
              "    </tr>\n",
              "    <tr>\n",
              "      <th>Texas</th>\n",
              "      <td>551542.656250</td>\n",
              "    </tr>\n",
              "    <tr>\n",
              "      <th>Utah</th>\n",
              "      <td>55082.617188</td>\n",
              "    </tr>\n",
              "    <tr>\n",
              "      <th>Vermont</th>\n",
              "      <td>16008.265625</td>\n",
              "    </tr>\n",
              "    <tr>\n",
              "      <th>Virginia</th>\n",
              "      <td>188482.570312</td>\n",
              "    </tr>\n",
              "    <tr>\n",
              "      <th>Washington</th>\n",
              "      <td>163689.882812</td>\n",
              "    </tr>\n",
              "    <tr>\n",
              "      <th>West Virginia</th>\n",
              "      <td>46360.023438</td>\n",
              "    </tr>\n",
              "    <tr>\n",
              "      <th>Wisconsin</th>\n",
              "      <td>142797.929688</td>\n",
              "    </tr>\n",
              "    <tr>\n",
              "      <th>Wyoming</th>\n",
              "      <td>13822.453125</td>\n",
              "    </tr>\n",
              "  </tbody>\n",
              "</table>\n",
              "</div>"
            ],
            "text/plain": [
              "                      Number of Households\n",
              "State                                     \n",
              "Alabama                      114763.585938\n",
              "Alaska                        15575.929688\n",
              "Arizona                      147614.664062\n",
              "Arkansas                      70458.500000\n",
              "California                   782534.953125\n",
              "Colorado                     123001.328125\n",
              "Connecticut                   84580.859375\n",
              "Delaware                      21019.828125\n",
              "District of Columbia          16487.250000\n",
              "Florida                      449896.375000\n",
              "Georgia                      219766.312500\n",
              "Hawaii                        27936.570312\n",
              "Idaho                         36145.601562\n",
              "Illinois                     298488.156250\n",
              "Indiana                      155272.382812\n",
              "Iowa                          76659.335938\n",
              "Kansas                        69229.226562\n",
              "Kentucky                     105845.265625\n",
              "Louisiana                    105803.906250\n",
              "Maine                         34451.976562\n",
              "Maryland                     133803.687500\n",
              "Massachusetts                157840.242188\n",
              "Michigan                     239851.343750\n",
              "Minnesota                    131457.523438\n",
              "Mississippi                   68092.476562\n",
              "Missouri                     147210.781250\n",
              "Montana                       25145.679688\n",
              "Nebraska                      45206.757812\n",
              "Nevada                        62154.843750\n",
              "New Hampshire                 32243.500000\n",
              "New Jersey                   198875.734375\n",
              "New Mexico                    47432.531250\n",
              "New York                     451625.570312\n",
              "North Carolina               231049.828125\n",
              "North Dakota                  17935.156250\n",
              "Ohio                         285174.632812\n",
              "Oklahoma                      89919.968750\n",
              "Oregon                        94565.265625\n",
              "Pennsylvania                 309241.078125\n",
              "Puerto Rico                   76893.429688\n",
              "Rhode Island                  25594.648438\n",
              "South Carolina               110878.671875\n",
              "South Dakota                  20185.203125\n",
              "Tennessee                    154470.187500\n",
              "Texas                        551542.656250\n",
              "Utah                          55082.617188\n",
              "Vermont                       16008.265625\n",
              "Virginia                     188482.570312\n",
              "Washington                   163689.882812\n",
              "West Virginia                 46360.023438\n",
              "Wisconsin                    142797.929688\n",
              "Wyoming                       13822.453125"
            ]
          },
          "metadata": {},
          "execution_count": 10
        }
      ]
    },
    {
      "cell_type": "code",
      "metadata": {
        "colab": {
          "base_uri": "https://localhost:8080/",
          "height": 576
        },
        "id": "76RCNi4Xvrj7",
        "outputId": "7c3f89f6-1524-49f6-bff4-a22a7b8ad832"
      },
      "source": [
        "df.groupby(by = 'Income Level')[['Percent of Total']].mean()"
      ],
      "execution_count": 11,
      "outputs": [
        {
          "output_type": "execute_result",
          "data": {
            "text/html": [
              "<div>\n",
              "<style scoped>\n",
              "    .dataframe tbody tr th:only-of-type {\n",
              "        vertical-align: middle;\n",
              "    }\n",
              "\n",
              "    .dataframe tbody tr th {\n",
              "        vertical-align: top;\n",
              "    }\n",
              "\n",
              "    .dataframe thead th {\n",
              "        text-align: right;\n",
              "    }\n",
              "</style>\n",
              "<table border=\"1\" class=\"dataframe\">\n",
              "  <thead>\n",
              "    <tr style=\"text-align: right;\">\n",
              "      <th></th>\n",
              "      <th>Percent of Total</th>\n",
              "    </tr>\n",
              "    <tr>\n",
              "      <th>Income Level</th>\n",
              "      <th></th>\n",
              "    </tr>\n",
              "  </thead>\n",
              "  <tbody>\n",
              "    <tr>\n",
              "      <th>$10,000 to $14,999</th>\n",
              "      <td>0.055390</td>\n",
              "    </tr>\n",
              "    <tr>\n",
              "      <th>$100,000 to $124,999</th>\n",
              "      <td>0.078650</td>\n",
              "    </tr>\n",
              "    <tr>\n",
              "      <th>$125,000 to $149,999</th>\n",
              "      <td>0.045670</td>\n",
              "    </tr>\n",
              "    <tr>\n",
              "      <th>$15,000 to $19,999</th>\n",
              "      <td>0.053971</td>\n",
              "    </tr>\n",
              "    <tr>\n",
              "      <th>$150,000 to $199,999</th>\n",
              "      <td>0.044244</td>\n",
              "    </tr>\n",
              "    <tr>\n",
              "      <th>$20,000 to $24,999</th>\n",
              "      <td>0.054410</td>\n",
              "    </tr>\n",
              "    <tr>\n",
              "      <th>$200,000 or more</th>\n",
              "      <td>0.041675</td>\n",
              "    </tr>\n",
              "    <tr>\n",
              "      <th>$25,000 to $29,999</th>\n",
              "      <td>0.052218</td>\n",
              "    </tr>\n",
              "    <tr>\n",
              "      <th>$30,000 to $34,999</th>\n",
              "      <td>0.052402</td>\n",
              "    </tr>\n",
              "    <tr>\n",
              "      <th>$35,000 to $39,999</th>\n",
              "      <td>0.048058</td>\n",
              "    </tr>\n",
              "    <tr>\n",
              "      <th>$40,000 to $44,999</th>\n",
              "      <td>0.048133</td>\n",
              "    </tr>\n",
              "    <tr>\n",
              "      <th>$45,000 to $49,999</th>\n",
              "      <td>0.042543</td>\n",
              "    </tr>\n",
              "    <tr>\n",
              "      <th>$50,000 to $59,999</th>\n",
              "      <td>0.081247</td>\n",
              "    </tr>\n",
              "    <tr>\n",
              "      <th>$60,000 to $74,999</th>\n",
              "      <td>0.102029</td>\n",
              "    </tr>\n",
              "    <tr>\n",
              "      <th>$75,000 to $99,999</th>\n",
              "      <td>0.123067</td>\n",
              "    </tr>\n",
              "    <tr>\n",
              "      <th>Less than $10,000</th>\n",
              "      <td>0.076292</td>\n",
              "    </tr>\n",
              "  </tbody>\n",
              "</table>\n",
              "</div>"
            ],
            "text/plain": [
              "                      Percent of Total\n",
              "Income Level                          \n",
              "$10,000 to $14,999            0.055390\n",
              "$100,000 to $124,999          0.078650\n",
              "$125,000 to $149,999          0.045670\n",
              "$15,000 to $19,999            0.053971\n",
              "$150,000 to $199,999          0.044244\n",
              "$20,000 to $24,999            0.054410\n",
              "$200,000 or more              0.041675\n",
              "$25,000 to $29,999            0.052218\n",
              "$30,000 to $34,999            0.052402\n",
              "$35,000 to $39,999            0.048058\n",
              "$40,000 to $44,999            0.048133\n",
              "$45,000 to $49,999            0.042543\n",
              "$50,000 to $59,999            0.081247\n",
              "$60,000 to $74,999            0.102029\n",
              "$75,000 to $99,999            0.123067\n",
              "Less than $10,000             0.076292"
            ]
          },
          "metadata": {},
          "execution_count": 11
        }
      ]
    },
    {
      "cell_type": "code",
      "metadata": {
        "colab": {
          "base_uri": "https://localhost:8080/",
          "height": 576
        },
        "id": "maipqXKqS6ug",
        "outputId": "abc32969-a16c-450f-c607-2bf531eda069"
      },
      "source": [
        "df.groupby(by = 'Income Level')[['Number of Households']].mean()"
      ],
      "execution_count": 12,
      "outputs": [
        {
          "output_type": "execute_result",
          "data": {
            "text/html": [
              "<div>\n",
              "<style scoped>\n",
              "    .dataframe tbody tr th:only-of-type {\n",
              "        vertical-align: middle;\n",
              "    }\n",
              "\n",
              "    .dataframe tbody tr th {\n",
              "        vertical-align: top;\n",
              "    }\n",
              "\n",
              "    .dataframe thead th {\n",
              "        text-align: right;\n",
              "    }\n",
              "</style>\n",
              "<table border=\"1\" class=\"dataframe\">\n",
              "  <thead>\n",
              "    <tr style=\"text-align: right;\">\n",
              "      <th></th>\n",
              "      <th>Number of Households</th>\n",
              "    </tr>\n",
              "    <tr>\n",
              "      <th>Income Level</th>\n",
              "      <th></th>\n",
              "    </tr>\n",
              "  </thead>\n",
              "  <tbody>\n",
              "    <tr>\n",
              "      <th>$10,000 to $14,999</th>\n",
              "      <td>122271.475962</td>\n",
              "    </tr>\n",
              "    <tr>\n",
              "      <th>$100,000 to $124,999</th>\n",
              "      <td>178474.322115</td>\n",
              "    </tr>\n",
              "    <tr>\n",
              "      <th>$125,000 to $149,999</th>\n",
              "      <td>106214.911058</td>\n",
              "    </tr>\n",
              "    <tr>\n",
              "      <th>$15,000 to $19,999</th>\n",
              "      <td>120048.850962</td>\n",
              "    </tr>\n",
              "    <tr>\n",
              "      <th>$150,000 to $199,999</th>\n",
              "      <td>107076.781250</td>\n",
              "    </tr>\n",
              "    <tr>\n",
              "      <th>$20,000 to $24,999</th>\n",
              "      <td>120608.745192</td>\n",
              "    </tr>\n",
              "    <tr>\n",
              "      <th>$200,000 or more</th>\n",
              "      <td>105987.961538</td>\n",
              "    </tr>\n",
              "    <tr>\n",
              "      <th>$25,000 to $29,999</th>\n",
              "      <td>115688.444712</td>\n",
              "    </tr>\n",
              "    <tr>\n",
              "      <th>$30,000 to $34,999</th>\n",
              "      <td>115933.709135</td>\n",
              "    </tr>\n",
              "    <tr>\n",
              "      <th>$35,000 to $39,999</th>\n",
              "      <td>106679.290865</td>\n",
              "    </tr>\n",
              "    <tr>\n",
              "      <th>$40,000 to $44,999</th>\n",
              "      <td>106313.807692</td>\n",
              "    </tr>\n",
              "    <tr>\n",
              "      <th>$45,000 to $49,999</th>\n",
              "      <td>93891.007212</td>\n",
              "    </tr>\n",
              "    <tr>\n",
              "      <th>$50,000 to $59,999</th>\n",
              "      <td>179738.983173</td>\n",
              "    </tr>\n",
              "    <tr>\n",
              "      <th>$60,000 to $74,999</th>\n",
              "      <td>225004.084135</td>\n",
              "    </tr>\n",
              "    <tr>\n",
              "      <th>$75,000 to $99,999</th>\n",
              "      <td>272483.870192</td>\n",
              "    </tr>\n",
              "    <tr>\n",
              "      <th>Less than $10,000</th>\n",
              "      <td>166712.108173</td>\n",
              "    </tr>\n",
              "  </tbody>\n",
              "</table>\n",
              "</div>"
            ],
            "text/plain": [
              "                      Number of Households\n",
              "Income Level                              \n",
              "$10,000 to $14,999           122271.475962\n",
              "$100,000 to $124,999         178474.322115\n",
              "$125,000 to $149,999         106214.911058\n",
              "$15,000 to $19,999           120048.850962\n",
              "$150,000 to $199,999         107076.781250\n",
              "$20,000 to $24,999           120608.745192\n",
              "$200,000 or more             105987.961538\n",
              "$25,000 to $29,999           115688.444712\n",
              "$30,000 to $34,999           115933.709135\n",
              "$35,000 to $39,999           106679.290865\n",
              "$40,000 to $44,999           106313.807692\n",
              "$45,000 to $49,999            93891.007212\n",
              "$50,000 to $59,999           179738.983173\n",
              "$60,000 to $74,999           225004.084135\n",
              "$75,000 to $99,999           272483.870192\n",
              "Less than $10,000            166712.108173"
            ]
          },
          "metadata": {},
          "execution_count": 12
        }
      ]
    },
    {
      "cell_type": "code",
      "metadata": {
        "colab": {
          "base_uri": "https://localhost:8080/",
          "height": 328
        },
        "id": "iScj-z2x7hgP",
        "outputId": "8a5c6577-3972-444d-80a0-fed0f0c797e7"
      },
      "source": [
        "df.groupby(by = 'Year')[['Number of Households']].mean()"
      ],
      "execution_count": 13,
      "outputs": [
        {
          "output_type": "execute_result",
          "data": {
            "text/html": [
              "<div>\n",
              "<style scoped>\n",
              "    .dataframe tbody tr th:only-of-type {\n",
              "        vertical-align: middle;\n",
              "    }\n",
              "\n",
              "    .dataframe tbody tr th {\n",
              "        vertical-align: top;\n",
              "    }\n",
              "\n",
              "    .dataframe thead th {\n",
              "        text-align: right;\n",
              "    }\n",
              "</style>\n",
              "<table border=\"1\" class=\"dataframe\">\n",
              "  <thead>\n",
              "    <tr style=\"text-align: right;\">\n",
              "      <th></th>\n",
              "      <th>Number of Households</th>\n",
              "    </tr>\n",
              "    <tr>\n",
              "      <th>Year</th>\n",
              "      <th></th>\n",
              "    </tr>\n",
              "  </thead>\n",
              "  <tbody>\n",
              "    <tr>\n",
              "      <th>2009</th>\n",
              "      <td>136808.855769</td>\n",
              "    </tr>\n",
              "    <tr>\n",
              "      <th>2010</th>\n",
              "      <td>138777.686298</td>\n",
              "    </tr>\n",
              "    <tr>\n",
              "      <th>2011</th>\n",
              "      <td>139412.802885</td>\n",
              "    </tr>\n",
              "    <tr>\n",
              "      <th>2012</th>\n",
              "      <td>139957.194712</td>\n",
              "    </tr>\n",
              "    <tr>\n",
              "      <th>2013</th>\n",
              "      <td>140433.995192</td>\n",
              "    </tr>\n",
              "    <tr>\n",
              "      <th>2014</th>\n",
              "      <td>141168.925481</td>\n",
              "    </tr>\n",
              "    <tr>\n",
              "      <th>2015</th>\n",
              "      <td>142031.859375</td>\n",
              "    </tr>\n",
              "    <tr>\n",
              "      <th>2016</th>\n",
              "      <td>142972.856971</td>\n",
              "    </tr>\n",
              "  </tbody>\n",
              "</table>\n",
              "</div>"
            ],
            "text/plain": [
              "      Number of Households\n",
              "Year                      \n",
              "2009         136808.855769\n",
              "2010         138777.686298\n",
              "2011         139412.802885\n",
              "2012         139957.194712\n",
              "2013         140433.995192\n",
              "2014         141168.925481\n",
              "2015         142031.859375\n",
              "2016         142972.856971"
            ]
          },
          "metadata": {},
          "execution_count": 13
        }
      ]
    },
    {
      "cell_type": "code",
      "metadata": {
        "id": "Qft_c-ogfcVe"
      },
      "source": [
        "corr = df.corr()"
      ],
      "execution_count": 14,
      "outputs": []
    },
    {
      "cell_type": "code",
      "metadata": {
        "colab": {
          "base_uri": "https://localhost:8080/",
          "height": 870
        },
        "id": "bjps70fzPToL",
        "outputId": "b16e1ca9-3959-4e53-d6e0-b8d9325baa2d"
      },
      "source": [
        "sns.set(rc = {'figure.figsize':(15,15)})\n",
        "sns.heatmap(corr, cmap = 'BuPu', annot = True);"
      ],
      "execution_count": 15,
      "outputs": [
        {
          "output_type": "display_data",
          "data": {
            "image/png": "[encoded data removed]",
            "text/plain": [
              "<Figure size 1080x1080 with 2 Axes>"
            ]
          },
          "metadata": {}
        }
      ]
    },
    {
      "cell_type": "code",
      "metadata": {
        "colab": {
          "base_uri": "https://localhost:8080/",
          "height": 869
        },
        "id": "u-EB4diaP4sp",
        "outputId": "07cb70c0-a0fd-4d7b-b705-49e4b067ca5e"
      },
      "source": [
        "df.set_index('Number of Households')['Income Level'].hist();"
      ],
      "execution_count": 16,
      "outputs": [
        {
          "output_type": "display_data",
          "data": {
            "image/png": "[encoded data removed]",
            "text/plain": [
              "<Figure size 1080x1080 with 1 Axes>"
            ]
          },
          "metadata": {}
        }
      ]
    },
    {
      "cell_type": "code",
      "metadata": {
        "colab": {
          "base_uri": "https://localhost:8080/",
          "height": 866
        },
        "id": "Mh2mlnriRLAO",
        "outputId": "e36c79ea-0159-4e17-ac78-c0015000fb18"
      },
      "source": [
        "plt.plot(df['Year'],df['Income Level']);\n"
      ],
      "execution_count": 47,
      "outputs": [
        {
          "output_type": "display_data",
          "data": {
            "image/png": "[encoded data removed]",
            "text/plain": [
              "<Figure size 1080x1080 with 1 Axes>"
            ]
          },
          "metadata": {}
        }
      ]
    },
    {
      "cell_type": "code",
      "metadata": {
        "id": "7MWsSBqOT7OL",
        "colab": {
          "base_uri": "https://localhost:8080/"
        },
        "outputId": "f7ac29cb-34fb-453a-bf9a-d1117df8d087"
      },
      "source": [
        "df['Income Level']"
      ],
      "execution_count": 21,
      "outputs": [
        {
          "output_type": "execute_result",
          "data": {
            "text/plain": [
              "0         $10,000 to $14,999\n",
              "1         $15,000 to $19,999\n",
              "2         $20,000 to $24,999\n",
              "3         $25,000 to $29,999\n",
              "4         $30,000 to $34,999\n",
              "                ...         \n",
              "6651    $100,000 to $124,999\n",
              "6652    $125,000 to $149,999\n",
              "6653    $150,000 to $199,999\n",
              "6654        $200,000 or more\n",
              "6655       Less than $10,000\n",
              "Name: Income Level, Length: 6656, dtype: object"
            ]
          },
          "metadata": {},
          "execution_count": 21
        }
      ]
    },
    {
      "cell_type": "code",
      "metadata": {
        "colab": {
          "base_uri": "https://localhost:8080/"
        },
        "id": "GpudyXOEgeZd",
        "outputId": "22b2d5e2-9c13-47b2-a6dd-fe316925edb0"
      },
      "source": [
        "df['Income Level'].tail(1)"
      ],
      "execution_count": 34,
      "outputs": [
        {
          "output_type": "execute_result",
          "data": {
            "text/plain": [
              "6655    Less than $10,000\n",
              "Name: Income Level, dtype: object"
            ]
          },
          "metadata": {},
          "execution_count": 34
        }
      ]
    },
    {
      "cell_type": "code",
      "metadata": {
        "id": "khvk6nvQgrqx"
      },
      "source": [
        "#df_new_df['Income level'] = df['Income Level'].sort"
      ],
      "execution_count": null,
      "outputs": []
    },
    {
      "cell_type": "code",
      "metadata": {
        "colab": {
          "base_uri": "https://localhost:8080/"
        },
        "id": "78fOcNkso9Nd",
        "outputId": "4166e10e-fde2-4145-fc44-122fa7b02e38"
      },
      "source": [
        "df['Income Level'].iloc[-1:]"
      ],
      "execution_count": 37,
      "outputs": [
        {
          "output_type": "execute_result",
          "data": {
            "text/plain": [
              "6655    Less than $10,000\n",
              "Name: Income Level, dtype: object"
            ]
          },
          "metadata": {},
          "execution_count": 37
        }
      ]
    },
    {
      "cell_type": "code",
      "metadata": {
        "colab": {
          "base_uri": "https://localhost:8080/"
        },
        "id": "P4IhK3v5pKPI",
        "outputId": "d02b2570-6e2e-4493-88ff-71cd13eaddfe"
      },
      "source": [
        "df['Income Level'].iloc[0:-1]"
      ],
      "execution_count": 40,
      "outputs": [
        {
          "output_type": "execute_result",
          "data": {
            "text/plain": [
              "0         $10,000 to $14,999\n",
              "1         $15,000 to $19,999\n",
              "2         $20,000 to $24,999\n",
              "3         $25,000 to $29,999\n",
              "4         $30,000 to $34,999\n",
              "                ...         \n",
              "6650      $75,000 to $99,999\n",
              "6651    $100,000 to $124,999\n",
              "6652    $125,000 to $149,999\n",
              "6653    $150,000 to $199,999\n",
              "6654        $200,000 or more\n",
              "Name: Income Level, Length: 6655, dtype: object"
            ]
          },
          "metadata": {},
          "execution_count": 40
        }
      ]
    },
    {
      "cell_type": "code",
      "metadata": {
        "id": "1tN-ncqLsidI"
      },
      "source": [
        ""
      ],
      "execution_count": 41,
      "outputs": []
    },
    {
      "cell_type": "code",
      "metadata": {
        "id": "xpXchJjVtBDP"
      },
      "source": [
        ""
      ],
      "execution_count": null,
      "outputs": []
    }
  ]
}